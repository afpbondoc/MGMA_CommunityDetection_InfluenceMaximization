{
 "cells": [
  {
   "cell_type": "code",
   "execution_count": null,
   "id": "576859a3",
   "metadata": {},
   "outputs": [],
   "source": [
    "import pandas as pd, os, gc\n",
    "import networkx as nx, matplotlib.pyplot as plt"
   ]
  },
  {
   "cell_type": "markdown",
   "id": "fb91b6d5",
   "metadata": {},
   "source": [
    "# Data & Graph"
   ]
  },
  {
   "cell_type": "code",
   "execution_count": null,
   "id": "2c56eb34",
   "metadata": {},
   "outputs": [],
   "source": [
    "edges = pd.read_csv(r'data/email_eu/email-Eu-core.txt', sep=' ')\n",
    "edges = edges.rename(columns={'0':'node_1', '1':'node_2'})\n",
    "edges"
   ]
  },
  {
   "cell_type": "code",
   "execution_count": null,
   "id": "2d844b3a",
   "metadata": {},
   "outputs": [],
   "source": []
  },
  {
   "cell_type": "markdown",
   "id": "6466337e",
   "metadata": {},
   "source": [
    "# Influence Maximization\n",
    "Source: https://ethen8181.github.io/machine-learning/networkx/max_influence/max_influence.html"
   ]
  },
  {
   "cell_type": "code",
   "execution_count": null,
   "id": "eef0bff6",
   "metadata": {},
   "outputs": [],
   "source": []
  },
  {
   "cell_type": "code",
   "execution_count": null,
   "id": "5668e2a6",
   "metadata": {},
   "outputs": [],
   "source": []
  },
  {
   "cell_type": "code",
   "execution_count": null,
   "id": "28fca84d",
   "metadata": {},
   "outputs": [],
   "source": []
  }
 ],
 "metadata": {
  "kernelspec": {
   "display_name": "Python 3 (ipykernel)",
   "language": "python",
   "name": "python3"
  },
  "language_info": {
   "codemirror_mode": {
    "name": "ipython",
    "version": 3
   },
   "file_extension": ".py",
   "mimetype": "text/x-python",
   "name": "python",
   "nbconvert_exporter": "python",
   "pygments_lexer": "ipython3",
   "version": "3.9.13"
  },
  "varInspector": {
   "cols": {
    "lenName": 16,
    "lenType": 16,
    "lenVar": 40
   },
   "kernels_config": {
    "python": {
     "delete_cmd_postfix": "",
     "delete_cmd_prefix": "del ",
     "library": "var_list.py",
     "varRefreshCmd": "print(var_dic_list())"
    },
    "r": {
     "delete_cmd_postfix": ") ",
     "delete_cmd_prefix": "rm(",
     "library": "var_list.r",
     "varRefreshCmd": "cat(var_dic_list()) "
    }
   },
   "types_to_exclude": [
    "module",
    "function",
    "builtin_function_or_method",
    "instance",
    "_Feature"
   ],
   "window_display": false
  }
 },
 "nbformat": 4,
 "nbformat_minor": 5
}
