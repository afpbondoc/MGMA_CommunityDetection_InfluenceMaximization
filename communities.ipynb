{
 "cells": [
  {
   "cell_type": "code",
   "execution_count": 1,
   "id": "9813f1fd",
   "metadata": {
    "ExecuteTime": {
     "end_time": "2024-02-15T16:40:08.951381Z",
     "start_time": "2024-02-15T16:40:04.866921Z"
    }
   },
   "outputs": [],
   "source": [
    "import pandas as pd, os, gc\n",
    "import networkx as nx, matplotlib.pyplot as plt\n",
    "from sklearn.metrics import silhouette_score"
   ]
  },
  {
   "cell_type": "markdown",
   "id": "ee64d7ce",
   "metadata": {},
   "source": [
    "# Data Set up"
   ]
  },
  {
   "cell_type": "code",
   "execution_count": 3,
   "id": "1f8a5294",
   "metadata": {
    "ExecuteTime": {
     "end_time": "2024-02-15T16:40:09.021646Z",
     "start_time": "2024-02-15T16:40:08.976194Z"
    }
   },
   "outputs": [
    {
     "data": {
      "text/html": [
       "<div>\n",
       "<style scoped>\n",
       "    .dataframe tbody tr th:only-of-type {\n",
       "        vertical-align: middle;\n",
       "    }\n",
       "\n",
       "    .dataframe tbody tr th {\n",
       "        vertical-align: top;\n",
       "    }\n",
       "\n",
       "    .dataframe thead th {\n",
       "        text-align: right;\n",
       "    }\n",
       "</style>\n",
       "<table border=\"1\" class=\"dataframe\">\n",
       "  <thead>\n",
       "    <tr style=\"text-align: right;\">\n",
       "      <th></th>\n",
       "      <th>node_1</th>\n",
       "      <th>node_2</th>\n",
       "    </tr>\n",
       "  </thead>\n",
       "  <tbody>\n",
       "    <tr>\n",
       "      <th>0</th>\n",
       "      <td>0</td>\n",
       "      <td>747</td>\n",
       "    </tr>\n",
       "    <tr>\n",
       "      <th>1</th>\n",
       "      <td>1</td>\n",
       "      <td>4257</td>\n",
       "    </tr>\n",
       "    <tr>\n",
       "      <th>2</th>\n",
       "      <td>1</td>\n",
       "      <td>2194</td>\n",
       "    </tr>\n",
       "    <tr>\n",
       "      <th>3</th>\n",
       "      <td>1</td>\n",
       "      <td>580</td>\n",
       "    </tr>\n",
       "    <tr>\n",
       "      <th>4</th>\n",
       "      <td>1</td>\n",
       "      <td>6478</td>\n",
       "    </tr>\n",
       "    <tr>\n",
       "      <th>...</th>\n",
       "      <td>...</td>\n",
       "      <td>...</td>\n",
       "    </tr>\n",
       "    <tr>\n",
       "      <th>27801</th>\n",
       "      <td>7488</td>\n",
       "      <td>7564</td>\n",
       "    </tr>\n",
       "    <tr>\n",
       "      <th>27802</th>\n",
       "      <td>7505</td>\n",
       "      <td>7579</td>\n",
       "    </tr>\n",
       "    <tr>\n",
       "      <th>27803</th>\n",
       "      <td>7533</td>\n",
       "      <td>7536</td>\n",
       "    </tr>\n",
       "    <tr>\n",
       "      <th>27804</th>\n",
       "      <td>7569</td>\n",
       "      <td>7587</td>\n",
       "    </tr>\n",
       "    <tr>\n",
       "      <th>27805</th>\n",
       "      <td>7580</td>\n",
       "      <td>7595</td>\n",
       "    </tr>\n",
       "  </tbody>\n",
       "</table>\n",
       "<p>27806 rows × 2 columns</p>\n",
       "</div>"
      ],
      "text/plain": [
       "       node_1  node_2\n",
       "0           0     747\n",
       "1           1    4257\n",
       "2           1    2194\n",
       "3           1     580\n",
       "4           1    6478\n",
       "...       ...     ...\n",
       "27801    7488    7564\n",
       "27802    7505    7579\n",
       "27803    7533    7536\n",
       "27804    7569    7587\n",
       "27805    7580    7595\n",
       "\n",
       "[27806 rows x 2 columns]"
      ]
     },
     "execution_count": 3,
     "metadata": {},
     "output_type": "execute_result"
    }
   ],
   "source": [
    "# Download and save the lastfm_asia_edges.csv in the required format\n",
    "# Download link: https://snap.stanford.edu/data/feather-lastfm-social.html\n",
    "# Data source: \n",
    "    # Author: Benedek Rozemberczki and Rik Sarkar\n",
    "    # Title: Characteristic Functions on Graphs: Birds of a Feather, from Statistical Descriptors to Parametric Models\n",
    "    # Year: 2020\n",
    "    \n",
    "edges=pd.read_csv(r'data/lastfm_asia/lastfm_asia_edges.csv')\n",
    "edges"
   ]
  },
  {
   "cell_type": "code",
   "execution_count": 2,
   "id": "35cf20c6",
   "metadata": {
    "ExecuteTime": {
     "end_time": "2024-02-15T16:40:08.973265Z",
     "start_time": "2024-02-15T16:40:08.951381Z"
    }
   },
   "outputs": [],
   "source": [
    "# ## Download and save the congresslist.edgelist in the required format\n",
    "# ## Download link : https://snap.stanford.edu/data/congress-twitter.html\n",
    "# ## Data source: C.G. Fink, K. Fullin, G. Gutierrez, N. Omodt, S. Zinnecker, \n",
    "# ## G. Sprint, and S. McCulloch: A centrality measure for quantifying spread \n",
    "# ## on weighted, directed networks. Physica A, 2023.\n",
    "\n",
    "# G = nx.read_edgelist('data/congress_network/congress.edgelist')\n",
    "\n",
    "# transition_G = nx.google_matrix(G)\n",
    "# transition_G=pd.DataFrame(transition_G)\n",
    "\n",
    "# # Save to Matrix format in txt (transpose to make it column wise stochastic)\n",
    "# transition_G.T.to_csv('data/matrix-congress.txt', sep=' ', index=True, header=False)"
   ]
  },
  {
   "cell_type": "code",
   "execution_count": 18,
   "id": "310fa3cc",
   "metadata": {
    "ExecuteTime": {
     "end_time": "2024-02-15T16:54:24.528800Z",
     "start_time": "2024-02-15T16:54:23.071871Z"
    }
   },
   "outputs": [
    {
     "data": {
      "text/plain": [
       "0       173\n",
       "1       206\n",
       "2       225\n",
       "3       233\n",
       "4       243\n",
       "       ... \n",
       "939    7623\n",
       "940    7623\n",
       "941    7623\n",
       "942    7623\n",
       "943    7623\n",
       "Length: 944, dtype: int64"
      ]
     },
     "execution_count": 18,
     "metadata": {},
     "output_type": "execute_result"
    }
   ],
   "source": [
    "# import json\n",
    " \n",
    "# Opening JSON file\n",
    "f = open('data/lastfm_asia/lastfm_asia_features.json')\n",
    " \n",
    "# returns JSON object as \n",
    "# a dictionary\n",
    "nodes = json.load(f)\n",
    "\n",
    "nodes=pd.DataFrame.from_dict(nodes, orient='index')\n",
    "nodes.isna().sum()\n",
    "\n",
    "# target=pd.read_csv('lastfm_asia/lastfm_asia_target.csv')\n",
    "# target"
   ]
  },
  {
   "cell_type": "code",
   "execution_count": 5,
   "id": "bb320c01",
   "metadata": {
    "ExecuteTime": {
     "end_time": "2024-02-15T16:40:09.205250Z",
     "start_time": "2024-02-15T16:40:09.037883Z"
    }
   },
   "outputs": [
    {
     "data": {
      "image/png": "[encoded data removed]",
      "text/plain": [
       "<Figure size 640x480 with 1 Axes>"
      ]
     },
     "metadata": {},
     "output_type": "display_data"
    }
   ],
   "source": [
    "# TEST\n",
    "G = nx.from_pandas_edgelist(edges.head(100), 'node_1', 'node_2')\n",
    "\n",
    "# Visualize the graph\n",
    "nx.draw(G, with_labels=False)\n",
    "plt.show()"
   ]
  },
  {
   "cell_type": "markdown",
   "id": "83bf87a5",
   "metadata": {},
   "source": [
    "# Community"
   ]
  },
  {
   "cell_type": "markdown",
   "id": "005242da",
   "metadata": {},
   "source": [
    "## Functions"
   ]
  },
  {
   "cell_type": "code",
   "execution_count": 6,
   "id": "e09f2945",
   "metadata": {
    "ExecuteTime": {
     "end_time": "2024-02-15T16:40:09.216514Z",
     "start_time": "2024-02-15T16:40:09.207665Z"
    }
   },
   "outputs": [],
   "source": [
    "def graph_community(G, community):\n",
    "    # Visualize the graph\n",
    "    pos = nx.spring_layout(G)\n",
    "    nx.draw(G, pos, with_labels=True)\n",
    "\n",
    "    # Assign community colors to nodes\n",
    "    node_colors = []\n",
    "    for node in G.nodes():\n",
    "        for i, comm in enumerate(community):\n",
    "            if node in comm:\n",
    "                node_colors.append(i)\n",
    "                break\n",
    "\n",
    "    # Draw nodes with community colors\n",
    "    nx.draw_networkx_nodes(G, pos, node_color=node_colors, cmap=plt.cm.rainbow)\n",
    "\n",
    "    # Optionally, draw edges\n",
    "    nx.draw_networkx_edges(G, pos, alpha=0.5)\n",
    "\n",
    "    plt.show()"
   ]
  },
  {
   "cell_type": "code",
   "execution_count": 7,
   "id": "1456bcd5",
   "metadata": {
    "ExecuteTime": {
     "end_time": "2024-02-15T16:40:09.228744Z",
     "start_time": "2024-02-15T16:40:09.221241Z"
    }
   },
   "outputs": [],
   "source": [
    "def get_metrics(G, community):\n",
    "    \"\"\"\n",
    "    1. Modularity:\n",
    "    Returns the modularity of the given partition of the graph.\n",
    "    \n",
    "    2. Partition Quality:\n",
    "    The coverage of a partition is the ratio of the number of intra-community edges to the total number of edges in the graph.\n",
    "    The performance of a partition is the number of intra-community edges plus inter-community non-edges divided by the total number of potential edges.\n",
    "    --> returns (coverage, performance) tuple of the partition\n",
    "    \"\"\"\n",
    "    # similarity metrics\n",
    "    \n",
    "    modularity = nx.algorithms.community.modularity(G, community)\n",
    "    partion_quality = nx.algorithms.community.partition_quality(G, community) \n",
    "#     silhouette = silhouette_score(G, community)\n",
    "\n",
    "    # Ratio cut\n",
    "    # ncut\n",
    "    \n",
    "    return {'modularity':modularity,\n",
    "            'partition_quality':partion_quality,\n",
    "#            'silhouette': silhouette\n",
    "           }"
   ]
  },
  {
   "cell_type": "code",
   "execution_count": 32,
   "id": "3d5322ca",
   "metadata": {
    "ExecuteTime": {
     "end_time": "2024-02-15T19:53:00.412501Z",
     "start_time": "2024-02-15T19:53:00.164685Z"
    }
   },
   "outputs": [
    {
     "name": "stderr",
     "output_type": "stream",
     "text": [
      "C:\\Users\\Adina Bondoc\\AppData\\Local\\Temp\\ipykernel_15180\\1133733884.py:1: FutureWarning: adjacency_matrix will return a scipy.sparse array instead of a matrix in Networkx 3.0.\n",
      "  silhouette_score(nx.adjacency_matrix(G), louvain)\n"
     ]
    },
    {
     "ename": "ValueError",
     "evalue": "Found input variables with inconsistent numbers of samples: [111, 13]",
     "output_type": "error",
     "traceback": [
      "\u001b[1;31m---------------------------------------------------------------------------\u001b[0m",
      "\u001b[1;31mValueError\u001b[0m                                Traceback (most recent call last)",
      "\u001b[1;32m~\\AppData\\Local\\Temp\\ipykernel_15180\\1133733884.py\u001b[0m in \u001b[0;36m<module>\u001b[1;34m\u001b[0m\n\u001b[1;32m----> 1\u001b[1;33m \u001b[0msilhouette_score\u001b[0m\u001b[1;33m(\u001b[0m\u001b[0mnx\u001b[0m\u001b[1;33m.\u001b[0m\u001b[0madjacency_matrix\u001b[0m\u001b[1;33m(\u001b[0m\u001b[0mG\u001b[0m\u001b[1;33m)\u001b[0m\u001b[1;33m,\u001b[0m \u001b[0mlouvain\u001b[0m\u001b[1;33m)\u001b[0m\u001b[1;33m\u001b[0m\u001b[1;33m\u001b[0m\u001b[0m\n\u001b[0m",
      "\u001b[1;32mC:\\Users\\Public\\anaconda3\\lib\\site-packages\\sklearn\\metrics\\cluster\\_unsupervised.py\u001b[0m in \u001b[0;36msilhouette_score\u001b[1;34m(X, labels, metric, sample_size, random_state, **kwds)\u001b[0m\n\u001b[0;32m    115\u001b[0m         \u001b[1;32melse\u001b[0m\u001b[1;33m:\u001b[0m\u001b[1;33m\u001b[0m\u001b[1;33m\u001b[0m\u001b[0m\n\u001b[0;32m    116\u001b[0m             \u001b[0mX\u001b[0m\u001b[1;33m,\u001b[0m \u001b[0mlabels\u001b[0m \u001b[1;33m=\u001b[0m \u001b[0mX\u001b[0m\u001b[1;33m[\u001b[0m\u001b[0mindices\u001b[0m\u001b[1;33m]\u001b[0m\u001b[1;33m,\u001b[0m \u001b[0mlabels\u001b[0m\u001b[1;33m[\u001b[0m\u001b[0mindices\u001b[0m\u001b[1;33m]\u001b[0m\u001b[1;33m\u001b[0m\u001b[1;33m\u001b[0m\u001b[0m\n\u001b[1;32m--> 117\u001b[1;33m     \u001b[1;32mreturn\u001b[0m \u001b[0mnp\u001b[0m\u001b[1;33m.\u001b[0m\u001b[0mmean\u001b[0m\u001b[1;33m(\u001b[0m\u001b[0msilhouette_samples\u001b[0m\u001b[1;33m(\u001b[0m\u001b[0mX\u001b[0m\u001b[1;33m,\u001b[0m \u001b[0mlabels\u001b[0m\u001b[1;33m,\u001b[0m \u001b[0mmetric\u001b[0m\u001b[1;33m=\u001b[0m\u001b[0mmetric\u001b[0m\u001b[1;33m,\u001b[0m \u001b[1;33m**\u001b[0m\u001b[0mkwds\u001b[0m\u001b[1;33m)\u001b[0m\u001b[1;33m)\u001b[0m\u001b[1;33m\u001b[0m\u001b[1;33m\u001b[0m\u001b[0m\n\u001b[0m\u001b[0;32m    118\u001b[0m \u001b[1;33m\u001b[0m\u001b[0m\n\u001b[0;32m    119\u001b[0m \u001b[1;33m\u001b[0m\u001b[0m\n",
      "\u001b[1;32mC:\\Users\\Public\\anaconda3\\lib\\site-packages\\sklearn\\metrics\\cluster\\_unsupervised.py\u001b[0m in \u001b[0;36msilhouette_samples\u001b[1;34m(X, labels, metric, **kwds)\u001b[0m\n\u001b[0;32m    210\u001b[0m        \u001b[1;33m<\u001b[0m\u001b[0mhttps\u001b[0m\u001b[1;33m:\u001b[0m\u001b[1;33m//\u001b[0m\u001b[0men\u001b[0m\u001b[1;33m.\u001b[0m\u001b[0mwikipedia\u001b[0m\u001b[1;33m.\u001b[0m\u001b[0morg\u001b[0m\u001b[1;33m/\u001b[0m\u001b[0mwiki\u001b[0m\u001b[1;33m/\u001b[0m\u001b[0mSilhouette_\u001b[0m\u001b[1;33m(\u001b[0m\u001b[0mclustering\u001b[0m\u001b[1;33m)\u001b[0m\u001b[1;33m>\u001b[0m\u001b[0;31m`\u001b[0m\u001b[0m_\u001b[0m\u001b[1;33m\u001b[0m\u001b[1;33m\u001b[0m\u001b[0m\n\u001b[0;32m    211\u001b[0m     \"\"\"\n\u001b[1;32m--> 212\u001b[1;33m     \u001b[0mX\u001b[0m\u001b[1;33m,\u001b[0m \u001b[0mlabels\u001b[0m \u001b[1;33m=\u001b[0m \u001b[0mcheck_X_y\u001b[0m\u001b[1;33m(\u001b[0m\u001b[0mX\u001b[0m\u001b[1;33m,\u001b[0m \u001b[0mlabels\u001b[0m\u001b[1;33m,\u001b[0m \u001b[0maccept_sparse\u001b[0m\u001b[1;33m=\u001b[0m\u001b[1;33m[\u001b[0m\u001b[1;34m\"csc\"\u001b[0m\u001b[1;33m,\u001b[0m \u001b[1;34m\"csr\"\u001b[0m\u001b[1;33m]\u001b[0m\u001b[1;33m)\u001b[0m\u001b[1;33m\u001b[0m\u001b[1;33m\u001b[0m\u001b[0m\n\u001b[0m\u001b[0;32m    213\u001b[0m \u001b[1;33m\u001b[0m\u001b[0m\n\u001b[0;32m    214\u001b[0m     \u001b[1;31m# Check for non-zero diagonal entries in precomputed distance matrix\u001b[0m\u001b[1;33m\u001b[0m\u001b[1;33m\u001b[0m\u001b[0m\n",
      "\u001b[1;32mC:\\Users\\Public\\anaconda3\\lib\\site-packages\\sklearn\\utils\\validation.py\u001b[0m in \u001b[0;36mcheck_X_y\u001b[1;34m(X, y, accept_sparse, accept_large_sparse, dtype, order, copy, force_all_finite, ensure_2d, allow_nd, multi_output, ensure_min_samples, ensure_min_features, y_numeric, estimator)\u001b[0m\n\u001b[0;32m    979\u001b[0m     \u001b[0my\u001b[0m \u001b[1;33m=\u001b[0m \u001b[0m_check_y\u001b[0m\u001b[1;33m(\u001b[0m\u001b[0my\u001b[0m\u001b[1;33m,\u001b[0m \u001b[0mmulti_output\u001b[0m\u001b[1;33m=\u001b[0m\u001b[0mmulti_output\u001b[0m\u001b[1;33m,\u001b[0m \u001b[0my_numeric\u001b[0m\u001b[1;33m=\u001b[0m\u001b[0my_numeric\u001b[0m\u001b[1;33m)\u001b[0m\u001b[1;33m\u001b[0m\u001b[1;33m\u001b[0m\u001b[0m\n\u001b[0;32m    980\u001b[0m \u001b[1;33m\u001b[0m\u001b[0m\n\u001b[1;32m--> 981\u001b[1;33m     \u001b[0mcheck_consistent_length\u001b[0m\u001b[1;33m(\u001b[0m\u001b[0mX\u001b[0m\u001b[1;33m,\u001b[0m \u001b[0my\u001b[0m\u001b[1;33m)\u001b[0m\u001b[1;33m\u001b[0m\u001b[1;33m\u001b[0m\u001b[0m\n\u001b[0m\u001b[0;32m    982\u001b[0m \u001b[1;33m\u001b[0m\u001b[0m\n\u001b[0;32m    983\u001b[0m     \u001b[1;32mreturn\u001b[0m \u001b[0mX\u001b[0m\u001b[1;33m,\u001b[0m \u001b[0my\u001b[0m\u001b[1;33m\u001b[0m\u001b[1;33m\u001b[0m\u001b[0m\n",
      "\u001b[1;32mC:\\Users\\Public\\anaconda3\\lib\\site-packages\\sklearn\\utils\\validation.py\u001b[0m in \u001b[0;36mcheck_consistent_length\u001b[1;34m(*arrays)\u001b[0m\n\u001b[0;32m    330\u001b[0m     \u001b[0muniques\u001b[0m \u001b[1;33m=\u001b[0m \u001b[0mnp\u001b[0m\u001b[1;33m.\u001b[0m\u001b[0munique\u001b[0m\u001b[1;33m(\u001b[0m\u001b[0mlengths\u001b[0m\u001b[1;33m)\u001b[0m\u001b[1;33m\u001b[0m\u001b[1;33m\u001b[0m\u001b[0m\n\u001b[0;32m    331\u001b[0m     \u001b[1;32mif\u001b[0m \u001b[0mlen\u001b[0m\u001b[1;33m(\u001b[0m\u001b[0muniques\u001b[0m\u001b[1;33m)\u001b[0m \u001b[1;33m>\u001b[0m \u001b[1;36m1\u001b[0m\u001b[1;33m:\u001b[0m\u001b[1;33m\u001b[0m\u001b[1;33m\u001b[0m\u001b[0m\n\u001b[1;32m--> 332\u001b[1;33m         raise ValueError(\n\u001b[0m\u001b[0;32m    333\u001b[0m             \u001b[1;34m\"Found input variables with inconsistent numbers of samples: %r\"\u001b[0m\u001b[1;33m\u001b[0m\u001b[1;33m\u001b[0m\u001b[0m\n\u001b[0;32m    334\u001b[0m             \u001b[1;33m%\u001b[0m \u001b[1;33m[\u001b[0m\u001b[0mint\u001b[0m\u001b[1;33m(\u001b[0m\u001b[0ml\u001b[0m\u001b[1;33m)\u001b[0m \u001b[1;32mfor\u001b[0m \u001b[0ml\u001b[0m \u001b[1;32min\u001b[0m \u001b[0mlengths\u001b[0m\u001b[1;33m]\u001b[0m\u001b[1;33m\u001b[0m\u001b[1;33m\u001b[0m\u001b[0m\n",
      "\u001b[1;31mValueError\u001b[0m: Found input variables with inconsistent numbers of samples: [111, 13]"
     ]
    }
   ],
   "source": [
    "\n",
    "silhouette_score(nx.adjacency_matrix(G), louvain)"
   ]
  },
  {
   "cell_type": "code",
   "execution_count": 36,
   "id": "06742462",
   "metadata": {
    "ExecuteTime": {
     "end_time": "2024-02-15T19:53:33.902139Z",
     "start_time": "2024-02-15T19:53:33.893144Z"
    }
   },
   "outputs": [
    {
     "name": "stderr",
     "output_type": "stream",
     "text": [
      "C:\\Users\\Adina Bondoc\\AppData\\Local\\Temp\\ipykernel_15180\\3460206156.py:1: FutureWarning: adjacency_matrix will return a scipy.sparse array instead of a matrix in Networkx 3.0.\n",
      "  nx.adjacency_matrix(G).shape[1]\n"
     ]
    },
    {
     "data": {
      "text/plain": [
       "111"
      ]
     },
     "execution_count": 36,
     "metadata": {},
     "output_type": "execute_result"
    }
   ],
   "source": [
    "nx.adjacency_matrix(G).shape[1]"
   ]
  },
  {
   "cell_type": "markdown",
   "id": "cf74ac56",
   "metadata": {},
   "source": [
    "## Louvain"
   ]
  },
  {
   "cell_type": "code",
   "execution_count": 9,
   "id": "a606fc6a",
   "metadata": {
    "ExecuteTime": {
     "end_time": "2024-02-15T16:40:20.737416Z",
     "start_time": "2024-02-15T16:40:20.715111Z"
    },
    "scrolled": true
   },
   "outputs": [
    {
     "data": {
      "text/plain": [
       "[{0, 747},\n",
       " {1, 126, 580, 1222, 2194, 2204, 2639, 4257, 5735, 6478, 7146},\n",
       " {2,\n",
       "  6,\n",
       "  167,\n",
       "  342,\n",
       "  562,\n",
       "  598,\n",
       "  667,\n",
       "  870,\n",
       "  1284,\n",
       "  1462,\n",
       "  1492,\n",
       "  1551,\n",
       "  1834,\n",
       "  3079,\n",
       "  3291,\n",
       "  4154,\n",
       "  4405,\n",
       "  5179,\n",
       "  5303,\n",
       "  5856,\n",
       "  6180,\n",
       "  6283,\n",
       "  7128,\n",
       "  7279,\n",
       "  7340},\n",
       " {3,\n",
       "  272,\n",
       "  1351,\n",
       "  1728,\n",
       "  2013,\n",
       "  2107,\n",
       "  2900,\n",
       "  3381,\n",
       "  4319,\n",
       "  4433,\n",
       "  4560,\n",
       "  5060,\n",
       "  5823,\n",
       "  5943,\n",
       "  6046,\n",
       "  6095,\n",
       "  6503,\n",
       "  6940,\n",
       "  7089},\n",
       " {4, 5770},\n",
       " {5, 5454},\n",
       " {7, 177, 428, 2142, 2854, 6243, 6250, 6931, 7589},\n",
       " {8, 1686},\n",
       " {9, 246, 366, 1795, 2660, 3843, 4481, 6053, 6441},\n",
       " {10, 5489},\n",
       " {11, 618, 1325, 2412, 4919, 5240},\n",
       " {12, 3807, 5274},\n",
       " {13,\n",
       "  524,\n",
       "  866,\n",
       "  1223,\n",
       "  1509,\n",
       "  1794,\n",
       "  1817,\n",
       "  1937,\n",
       "  2266,\n",
       "  2789,\n",
       "  3557,\n",
       "  3559,\n",
       "  3971,\n",
       "  4770,\n",
       "  5385,\n",
       "  5857,\n",
       "  6152,\n",
       "  6298,\n",
       "  7315}]"
      ]
     },
     "execution_count": 9,
     "metadata": {},
     "output_type": "execute_result"
    }
   ],
   "source": [
    "G = nx.from_pandas_edgelist(edges.head(100), 'node_1', 'node_2')\n",
    "louvain=nx.community.louvain_communities(G, seed=123)\n",
    "louvain"
   ]
  },
  {
   "cell_type": "code",
   "execution_count": 10,
   "id": "9f4ae45c",
   "metadata": {
    "ExecuteTime": {
     "end_time": "2024-02-15T16:40:20.754949Z",
     "start_time": "2024-02-15T16:40:20.741419Z"
    }
   },
   "outputs": [
    {
     "data": {
      "text/plain": [
       "13"
      ]
     },
     "execution_count": 10,
     "metadata": {},
     "output_type": "execute_result"
    }
   ],
   "source": [
    "len(louvain)"
   ]
  },
  {
   "cell_type": "code",
   "execution_count": 11,
   "id": "af92e31b",
   "metadata": {
    "ExecuteTime": {
     "end_time": "2024-02-15T16:40:20.786801Z",
     "start_time": "2024-02-15T16:40:20.754949Z"
    },
    "scrolled": true
   },
   "outputs": [
    {
     "data": {
      "text/html": [
       "<div>\n",
       "<style scoped>\n",
       "    .dataframe tbody tr th:only-of-type {\n",
       "        vertical-align: middle;\n",
       "    }\n",
       "\n",
       "    .dataframe tbody tr th {\n",
       "        vertical-align: top;\n",
       "    }\n",
       "\n",
       "    .dataframe thead th {\n",
       "        text-align: right;\n",
       "    }\n",
       "</style>\n",
       "<table border=\"1\" class=\"dataframe\">\n",
       "  <thead>\n",
       "    <tr style=\"text-align: right;\">\n",
       "      <th></th>\n",
       "      <th>community</th>\n",
       "      <th>n_nodes</th>\n",
       "    </tr>\n",
       "  </thead>\n",
       "  <tbody>\n",
       "    <tr>\n",
       "      <th>0</th>\n",
       "      <td>0</td>\n",
       "      <td>2</td>\n",
       "    </tr>\n",
       "    <tr>\n",
       "      <th>1</th>\n",
       "      <td>1</td>\n",
       "      <td>11</td>\n",
       "    </tr>\n",
       "    <tr>\n",
       "      <th>2</th>\n",
       "      <td>2</td>\n",
       "      <td>25</td>\n",
       "    </tr>\n",
       "    <tr>\n",
       "      <th>3</th>\n",
       "      <td>3</td>\n",
       "      <td>19</td>\n",
       "    </tr>\n",
       "    <tr>\n",
       "      <th>4</th>\n",
       "      <td>4</td>\n",
       "      <td>2</td>\n",
       "    </tr>\n",
       "    <tr>\n",
       "      <th>5</th>\n",
       "      <td>5</td>\n",
       "      <td>2</td>\n",
       "    </tr>\n",
       "    <tr>\n",
       "      <th>6</th>\n",
       "      <td>6</td>\n",
       "      <td>9</td>\n",
       "    </tr>\n",
       "    <tr>\n",
       "      <th>7</th>\n",
       "      <td>7</td>\n",
       "      <td>2</td>\n",
       "    </tr>\n",
       "    <tr>\n",
       "      <th>8</th>\n",
       "      <td>8</td>\n",
       "      <td>9</td>\n",
       "    </tr>\n",
       "    <tr>\n",
       "      <th>9</th>\n",
       "      <td>9</td>\n",
       "      <td>2</td>\n",
       "    </tr>\n",
       "    <tr>\n",
       "      <th>10</th>\n",
       "      <td>10</td>\n",
       "      <td>6</td>\n",
       "    </tr>\n",
       "    <tr>\n",
       "      <th>11</th>\n",
       "      <td>11</td>\n",
       "      <td>3</td>\n",
       "    </tr>\n",
       "    <tr>\n",
       "      <th>12</th>\n",
       "      <td>12</td>\n",
       "      <td>19</td>\n",
       "    </tr>\n",
       "  </tbody>\n",
       "</table>\n",
       "</div>"
      ],
      "text/plain": [
       "    community  n_nodes\n",
       "0           0        2\n",
       "1           1       11\n",
       "2           2       25\n",
       "3           3       19\n",
       "4           4        2\n",
       "5           5        2\n",
       "6           6        9\n",
       "7           7        2\n",
       "8           8        9\n",
       "9           9        2\n",
       "10         10        6\n",
       "11         11        3\n",
       "12         12       19"
      ]
     },
     "execution_count": 11,
     "metadata": {},
     "output_type": "execute_result"
    }
   ],
   "source": [
    "louvain_sum=pd.DataFrame([len(i) for i in louvain], columns=['n_nodes']).reset_index().rename(columns={'index':'community'})\n",
    "louvain_sum"
   ]
  },
  {
   "cell_type": "code",
   "execution_count": 12,
   "id": "8878f74b",
   "metadata": {
    "ExecuteTime": {
     "end_time": "2024-02-15T16:40:21.236716Z",
     "start_time": "2024-02-15T16:40:20.786801Z"
    }
   },
   "outputs": [
    {
     "data": {
      "image/png": "[encoded data removed]",
      "text/plain": [
       "<Figure size 640x480 with 1 Axes>"
      ]
     },
     "metadata": {},
     "output_type": "display_data"
    }
   ],
   "source": [
    "graph_community(G, community=louvain)"
   ]
  },
  {
   "cell_type": "code",
   "execution_count": 13,
   "id": "9ead513d",
   "metadata": {
    "ExecuteTime": {
     "end_time": "2024-02-15T16:40:21.252342Z",
     "start_time": "2024-02-15T16:40:21.236716Z"
    }
   },
   "outputs": [],
   "source": [
    "# # Visualize the graph\n",
    "# nx.draw(G, with_labels=False)\n",
    "# plt.show()"
   ]
  },
  {
   "cell_type": "code",
   "execution_count": 14,
   "id": "a006ff18",
   "metadata": {
    "ExecuteTime": {
     "end_time": "2024-02-15T16:40:21.274349Z",
     "start_time": "2024-02-15T16:40:21.255064Z"
    }
   },
   "outputs": [
    {
     "data": {
      "text/plain": [
       "{'modularity': 0.8414000000000001,\n",
       " 'partition_quality': (1.0, 0.8866502866502867)}"
      ]
     },
     "execution_count": 14,
     "metadata": {},
     "output_type": "execute_result"
    }
   ],
   "source": [
    "get_metrics(G, louvain)"
   ]
  },
  {
   "cell_type": "markdown",
   "id": "8da6be49",
   "metadata": {},
   "source": [
    "# Influence Maximization"
   ]
  },
  {
   "cell_type": "markdown",
   "id": "79c270ae",
   "metadata": {},
   "source": [
    "## words"
   ]
  }
 ],
 "metadata": {
  "kernelspec": {
   "display_name": "Python 3 (ipykernel)",
   "language": "python",
   "name": "python3"
  },
  "language_info": {
   "codemirror_mode": {
    "name": "ipython",
    "version": 3
   },
   "file_extension": ".py",
   "mimetype": "text/x-python",
   "name": "python",
   "nbconvert_exporter": "python",
   "pygments_lexer": "ipython3",
   "version": "3.9.13"
  },
  "varInspector": {
   "cols": {
    "lenName": 16,
    "lenType": 16,
    "lenVar": 40
   },
   "kernels_config": {
    "python": {
     "delete_cmd_postfix": "",
     "delete_cmd_prefix": "del ",
     "library": "var_list.py",
     "varRefreshCmd": "print(var_dic_list())"
    },
    "r": {
     "delete_cmd_postfix": ") ",
     "delete_cmd_prefix": "rm(",
     "library": "var_list.r",
     "varRefreshCmd": "cat(var_dic_list()) "
    }
   },
   "types_to_exclude": [
    "module",
    "function",
    "builtin_function_or_method",
    "instance",
    "_Feature"
   ],
   "window_display": false
  }
 },
 "nbformat": 4,
 "nbformat_minor": 5
}
